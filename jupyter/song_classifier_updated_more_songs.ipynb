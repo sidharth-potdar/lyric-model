{
 "cells": [
  {
   "cell_type": "code",
   "execution_count": 1,
   "metadata": {},
   "outputs": [],
   "source": [
    "import lyricsgenius as genius\n",
    "\n",
    "from urllib.request import Request, urlopen, quote\n",
    "from bs4 import BeautifulSoup\n",
    "import requests\n",
    "import json\n",
    "import os"
   ]
  },
  {
   "cell_type": "code",
   "execution_count": 2,
   "metadata": {},
   "outputs": [],
   "source": [
    "api = genius.Genius('4vPfh0l1I33h0qqY-Bzn1ITfTGl_MPnKBHRRk_8XgvKnX70r9bumFYPWRkJ2VNSl')"
   ]
  },
  {
   "cell_type": "code",
   "execution_count": 3,
   "metadata": {},
   "outputs": [],
   "source": [
    "def get_list_from_ranker(url):\n",
    "    browser = webdriver.Chrome()\n",
    "\n",
    "    browser.get(url)\n",
    "    time.sleep(1)\n",
    "\n",
    "    elem = browser.find_element_by_tag_name(\"body\")\n",
    "\n",
    "    no_of_pagedowns = 20\n",
    "\n",
    "    while no_of_pagedowns:\n",
    "        elem.send_keys(Keys.PAGE_DOWN)\n",
    "        time.sleep(0.2)\n",
    "        no_of_pagedowns-=1\n",
    "\n",
    "    post_elems = browser.find_elements_by_class_name(\"listItem__data\")\n",
    "    artist_names = [p.find_element_by_class_name(\"listItem__title\").text for p in post_elems[:-1]]\n",
    "    browser.quit()\n",
    "    return artist_names"
   ]
  },
  {
   "cell_type": "code",
   "execution_count": 4,
   "metadata": {},
   "outputs": [
    {
     "data": {
      "text/plain": [
       "\"\\nrap_list = get_list_from_ranker('https://www.ranker.com/crowdranked-list/the-greatest-rappers-of-all-time')\\nrock_list = get_list_from_ranker('https://www.ranker.com/crowdranked-list/the-best-rock-bands-of-all-time')\\ncountry_list = get_list_from_ranker('https://www.ranker.com/list/top-country-artists-of-all-time/samantha-dillinger')\\nrb_list = get_list_from_ranker('https://www.ranker.com/list/best-r-and-b-artists-and-bands/reference')\\npop_list = get_list_from_ranker('https://www.ranker.com/list/best-pop-music-bands-and-artists/reference')\\n\""
      ]
     },
     "execution_count": 4,
     "metadata": {},
     "output_type": "execute_result"
    }
   ],
   "source": [
    "'''\n",
    "rap_list = get_list_from_ranker('https://www.ranker.com/crowdranked-list/the-greatest-rappers-of-all-time')\n",
    "rock_list = get_list_from_ranker('https://www.ranker.com/crowdranked-list/the-best-rock-bands-of-all-time')\n",
    "country_list = get_list_from_ranker('https://www.ranker.com/list/top-country-artists-of-all-time/samantha-dillinger')\n",
    "rb_list = get_list_from_ranker('https://www.ranker.com/list/best-r-and-b-artists-and-bands/reference')\n",
    "pop_list = get_list_from_ranker('https://www.ranker.com/list/best-pop-music-bands-and-artists/reference')\n",
    "'''"
   ]
  },
  {
   "cell_type": "code",
   "execution_count": 5,
   "metadata": {},
   "outputs": [],
   "source": [
    "import billboard"
   ]
  },
  {
   "cell_type": "code",
   "execution_count": null,
   "metadata": {},
   "outputs": [],
   "source": [
    "pop_chart = billboard.ChartData('greatest-of-all-time-pop-songs')\n",
    "rap_chart = billboard.ChartData('r-b-hip-hop-songs')\n",
    "rock_chart = billboard.ChartData('rock-songs')\n",
    "country_chart = billboard.ChartData('greatest-country-songs')\n",
    "gospel_chart = billboard.ChartData('christian-songs')\n"
   ]
  },
  {
   "cell_type": "code",
   "execution_count": null,
   "metadata": {},
   "outputs": [],
   "source": [
    "pop_songs = []\n",
    "\n",
    "for song in pop_chart:\n",
    "    pop_songs.append(api.search_song(song.title).lyrics)\n",
    "\n",
    "print(3)"
   ]
  },
  {
   "cell_type": "code",
   "execution_count": null,
   "metadata": {},
   "outputs": [],
   "source": [
    "print(len(pop_songs))"
   ]
  },
  {
   "cell_type": "code",
   "execution_count": null,
   "metadata": {},
   "outputs": [],
   "source": [
    "for pop_song in pop_songs:\n",
    "    print(pop_song)\n",
    "    print('==============================================')"
   ]
  },
  {
   "cell_type": "code",
   "execution_count": null,
   "metadata": {},
   "outputs": [],
   "source": [
    "rap_songs = []\n",
    "for song in rap_chart:\n",
    "    rap_songs.append(api.search_song(song.title).lyrics)\n",
    "\n",
    "rock_songs = []\n",
    "for song in rock_chart:\n",
    "    rock_songs.append(api.search_song(song.title).lyrics)\n",
    "    \n",
    "country_songs = []\n",
    "for song in country_chart:\n",
    "    country_songs.append(api.search_song(song.title).lyrics)\n",
    "    \n",
    "gospel_songs = []\n",
    "for song in gospel_chart:\n",
    "    gospel_songs.append(api.search_song(song.title).lyrics)"
   ]
  },
  {
   "cell_type": "code",
   "execution_count": null,
   "metadata": {},
   "outputs": [],
   "source": [
    "import numpy as np\n",
    "\n",
    "songs = []\n",
    "labels = []\n",
    "\n",
    "# Add pop songs to list with label 0\n",
    "for song in pop_songs:\n",
    "    songs.append(song)\n",
    "    labels.append(0)\n",
    "# Add rap songs to list with label 1\n",
    "for song in rap_songs:\n",
    "    songs.append(song)\n",
    "    labels.append(1)\n",
    "# Add rock songs to list with label 2\n",
    "for song in rock_songs:\n",
    "    songs.append(song)\n",
    "    labels.append(2)\n",
    "# Add country songs to list with label 3\n",
    "for song in country_songs:\n",
    "    songs.append(song)\n",
    "    labels.append(3)\n",
    "# Add gospel songs to list with label 4\n",
    "for song in gospel_songs:\n",
    "    songs.append(song)\n",
    "    labels.append(4)"
   ]
  },
  {
   "cell_type": "code",
   "execution_count": null,
   "metadata": {},
   "outputs": [],
   "source": [
    "songs = np.array(songs)\n",
    "labels = np.array(labels)"
   ]
  },
  {
   "cell_type": "code",
   "execution_count": null,
   "metadata": {},
   "outputs": [],
   "source": [
    "# Randomize order of songs\n",
    "rand_idx = np.random.permutation(len(songs))\n",
    "songs = songs[rand_idx]\n",
    "labels = labels[rand_idx]"
   ]
  },
  {
   "cell_type": "code",
   "execution_count": null,
   "metadata": {},
   "outputs": [],
   "source": [
    "# Split data into train/test\n",
    "num_songs = int(0.8 * len(songs))\n",
    "X_train = songs[:num_songs]\n",
    "y_train = labels[:num_songs]\n",
    "\n",
    "X_test = songs[num_songs:]\n",
    "y_test = labels[num_songs:]"
   ]
  },
  {
   "cell_type": "code",
   "execution_count": null,
   "metadata": {},
   "outputs": [],
   "source": [
    "from sklearn.feature_extraction.text import CountVectorizer\n",
    "from sklearn.feature_extraction.text import TfidfTransformer\n",
    "from sklearn.naive_bayes import MultinomialNB\n",
    "\n",
    "from sklearn.pipeline import Pipeline\n",
    "text_clf = Pipeline([('vect', CountVectorizer()),\n",
    "                     ('tfidf', TfidfTransformer()),\n",
    "                     ('clf', MultinomialNB()),\n",
    "])\n",
    "\n",
    "text_clf.fit(X_train, y_train)"
   ]
  },
  {
   "cell_type": "code",
   "execution_count": null,
   "metadata": {},
   "outputs": [],
   "source": [
    "predicted = text_clf.predict(X_test)\n",
    "\n",
    "print(np.mean(predicted == y_test))"
   ]
  },
  {
   "cell_type": "code",
   "execution_count": null,
   "metadata": {},
   "outputs": [],
   "source": [
    "from sklearn.feature_extraction.text import CountVectorizer\n",
    "from sklearn.feature_extraction.text import TfidfTransformer\n",
    "from sklearn.ensemble import RandomForestClassifier\n",
    "\n",
    "from sklearn.pipeline import Pipeline\n",
    "svc_clf = Pipeline([('vect', CountVectorizer()),\n",
    "                     ('tfidf', TfidfTransformer()),\n",
    "                     ('clf', RandomForestClassifier()),\n",
    "])\n",
    "\n",
    "svc_clf.fit(X_train, y_train)\n",
    "\n",
    "svc_pred = svc_clf.predict(X_test)\n",
    "print(np.mean(svc_pred == y_test))"
   ]
  },
  {
   "cell_type": "code",
   "execution_count": null,
   "metadata": {},
   "outputs": [],
   "source": [
    "songs = []\n",
    "labels = []\n",
    "\n",
    "# Add rap songs to list with label 0\n",
    "for song in rap_songs:\n",
    "    songs.append(song)\n",
    "    labels.append(0)\n",
    "# Add rock songs to list with label 1\n",
    "for song in rock_songs:\n",
    "    songs.append(song)\n",
    "    labels.append(1)\n",
    "# Add country songs to list with label 2\n",
    "for song in country_songs:\n",
    "    songs.append(song)\n",
    "    labels.append(2)\n",
    "    \n",
    "songs = np.array(songs)\n",
    "labels = np.array(labels)\n",
    "\n",
    "# Randomize order of songs\n",
    "rand_idx = np.random.permutation(len(songs))\n",
    "songs = songs[rand_idx]\n",
    "labels = labels[rand_idx]\n",
    "\n",
    "# Split data into train/test\n",
    "num_songs = int(0.8 * len(songs))\n",
    "X_train = songs[:num_songs]\n",
    "y_train = labels[:num_songs]\n",
    "\n",
    "X_test = songs[num_songs:]\n",
    "y_test = labels[num_songs:]"
   ]
  },
  {
   "cell_type": "code",
   "execution_count": null,
   "metadata": {},
   "outputs": [],
   "source": [
    "from sklearn.feature_extraction.text import CountVectorizer\n",
    "from sklearn.feature_extraction.text import TfidfTransformer\n",
    "from sklearn.naive_bayes import MultinomialNB\n",
    "\n",
    "from sklearn.pipeline import Pipeline\n",
    "text_clf = Pipeline([('vect', CountVectorizer()),\n",
    "                     ('tfidf', TfidfTransformer()),\n",
    "                     ('clf', MultinomialNB()),\n",
    "])\n",
    "\n",
    "text_clf.fit(X_train, y_train)\n",
    "\n",
    "predicted = text_clf.predict(X_test)\n",
    "print(np.mean(predicted == y_test))"
   ]
  },
  {
   "cell_type": "code",
   "execution_count": null,
   "metadata": {},
   "outputs": [],
   "source": [
    "from sklearn.feature_extraction.text import CountVectorizer\n",
    "from sklearn.feature_extraction.text import TfidfTransformer\n",
    "from sklearn.svm import LinearSVC\n",
    "\n",
    "from sklearn.pipeline import Pipeline\n",
    "linear_clf = Pipeline([('vect', CountVectorizer()),\n",
    "                     ('tfidf', TfidfTransformer()),\n",
    "                     ('clf', LinearSVC()),\n",
    "])\n",
    "\n",
    "linear_clf.fit(X_train, y_train)\n",
    "\n",
    "svc_pred = linear_clf.predict(X_test)\n",
    "print(np.mean(svc_pred == y_test))"
   ]
  },
  {
   "cell_type": "code",
   "execution_count": null,
   "metadata": {},
   "outputs": [],
   "source": [
    "from sklearn.feature_extraction.text import CountVectorizer\n",
    "from sklearn.feature_extraction.text import TfidfTransformer\n",
    "from sklearn.ensemble import RandomForestClassifier\n",
    "\n",
    "from sklearn.pipeline import Pipeline\n",
    "rf_clf = Pipeline([('vect', CountVectorizer()),\n",
    "                     ('tfidf', TfidfTransformer()),\n",
    "                     ('clf', RandomForestClassifier()),\n",
    "])\n",
    "\n",
    "rf_clf.fit(X_train, y_train)\n",
    "\n",
    "rf_pred = rf_clf.predict(X_test)\n",
    "print(np.mean(rf_pred == y_test))"
   ]
  },
  {
   "cell_type": "code",
   "execution_count": null,
   "metadata": {},
   "outputs": [],
   "source": [
    "from sklearn.feature_extraction.text import CountVectorizer\n",
    "from sklearn.feature_extraction.text import TfidfTransformer\n",
    "from sklearn.linear_model import LogisticRegression\n",
    "\n",
    "from sklearn.pipeline import Pipeline\n",
    "lr_clf = Pipeline([('vect', CountVectorizer()),\n",
    "                     ('tfidf', TfidfTransformer()),\n",
    "                     ('clf', LogisticRegression()),\n",
    "])\n",
    "\n",
    "lr_clf.fit(X_train, y_train)\n",
    "\n",
    "lr_pred = lr_clf.predict(X_test)\n",
    "print(np.mean(lr_pred == y_test))"
   ]
  },
  {
   "cell_type": "code",
   "execution_count": null,
   "metadata": {},
   "outputs": [],
   "source": [
    "import pickle"
   ]
  },
  {
   "cell_type": "code",
   "execution_count": null,
   "metadata": {},
   "outputs": [],
   "source": [
    "def save_object(obj, filename):\n",
    "    with open(filename, 'wb') as output:  # Overwrites any existing file.\n",
    "        pickle.dump(obj, output, pickle.HIGHEST_PROTOCOL)"
   ]
  },
  {
   "cell_type": "code",
   "execution_count": null,
   "metadata": {},
   "outputs": [],
   "source": [
    "save_object(text_clf, 'multinomial_nb.pkl')\n",
    "save_object(linear_clf, 'linear_svc.pkl')\n",
    "save_object(rf_clf, 'random_forest.pkl')\n",
    "save_object(lr_clf, 'logistic_regression.pkl')"
   ]
  },
  {
   "cell_type": "code",
   "execution_count": null,
   "metadata": {},
   "outputs": [],
   "source": []
  },
  {
   "cell_type": "code",
   "execution_count": null,
   "metadata": {},
   "outputs": [],
   "source": []
  }
 ],
 "metadata": {
  "kernelspec": {
   "display_name": "Python 3",
   "language": "python",
   "name": "python3"
  },
  "language_info": {
   "codemirror_mode": {
    "name": "ipython",
    "version": 3
   },
   "file_extension": ".py",
   "mimetype": "text/x-python",
   "name": "python",
   "nbconvert_exporter": "python",
   "pygments_lexer": "ipython3",
   "version": "3.6.3"
  }
 },
 "nbformat": 4,
 "nbformat_minor": 2
}
